{
 "cells": [
  {
   "cell_type": "code",
   "execution_count": 1,
   "id": "bfba0143",
   "metadata": {},
   "outputs": [
    {
     "name": "stdout",
     "output_type": "stream",
     "text": [
      "Recommended movies for 'Sholay':\n",
      "0    Dilwale Dulhania Le Jayenge\n",
      "2                       3 Idiots\n",
      "3                         Lagaan\n",
      "4                          Queen\n",
      "5       The Shawshank Redemption\n",
      "6                  The Godfather\n",
      "7                The Dark Knight\n",
      "8                   Pulp Fiction\n",
      "9                   Forrest Gump\n",
      "Name: title, dtype: object\n"
     ]
    }
   ],
   "source": [
    "import pandas as pd\n",
    "from sklearn.feature_extraction.text import TfidfVectorizer\n",
    "from sklearn.metrics.pairwise import linear_kernel\n",
    "\n",
    "\n",
    "data = {\n",
    "    'title': ['Dilwale Dulhania Le Jayenge', 'Sholay', '3 Idiots', 'Lagaan', 'Queen',\n",
    "              'The Shawshank Redemption', 'The Godfather', 'The Dark Knight', 'Pulp Fiction', 'Forrest Gump'],\n",
    "    'genre': ['Romance', 'Action', 'Comedy', 'Drama', 'Drama',\n",
    "              'Drama', 'Crime', 'Action', 'Crime', 'Drama'],\n",
    "    'description': ['Raj and Simran meet during a trip across Europe and the two fall in love. However, Raj must win over Simran\\'s family before they can be together.',\n",
    "                    'A retired police officer enlists the help of two criminals to bring down a notorious bandit.',\n",
    "                    'Three engineering students deal with societal pressure and the shortcomings of the Indian education system.',\n",
    "                    'In 1890s India, a village is oppressed by high taxes and drought. A young farmer accepts the challenge to go up against the British.',\n",
    "                    'A Delhi girl from a traditional family sets out on a solo honeymoon after her marriage is called off.',\n",
    "                    'Two imprisoned men bond over a number of years, finding solace and eventual redemption through acts of common decency.',\n",
    "                    'The aging patriarch of an organized crime dynasty transfers control of his clandestine empire to his reluctant son.',\n",
    "                    'When the menace known as the Joker wreaks havoc and chaos on the people of Gotham, Batman must accept one of the greatest psychological and physical tests of his ability to fight injustice.',\n",
    "                    'The lives of two mob hitmen, a boxer, a gangster and his wife, and a pair of diner bandits intertwine in four tales of violence and redemption.',\n",
    "                    'The presidencies of Kennedy and Johnson, the events of Vietnam, Watergate and other historical events unfold from the perspective of an Alabama man with an IQ of 75, whose only desire is to be reunited with his childhood sweetheart.']\n",
    "}\n",
    "\n",
    "df = pd.DataFrame(data)\n",
    "\n",
    "tfidf = TfidfVectorizer(stop_words='english')\n",
    "tfidf_matrix = tfidf.fit_transform(df['description'])\n",
    "\n",
    "\n",
    "cosine_sim = linear_kernel(tfidf_matrix, tfidf_matrix)\n",
    "\n",
    "\n",
    "def get_recommendations(title, cosine_sim=cosine_sim):\n",
    "    idx = df[df['title'] == title].index[0]\n",
    "    sim_scores = list(enumerate(cosine_sim[idx]))\n",
    "    sim_scores = sorted(sim_scores, key=lambda x: x[1], reverse=True)\n",
    "    sim_scores = sim_scores[1:11]\n",
    "    movie_indices = [i[0] for i in sim_scores]\n",
    "    return df['title'].iloc[movie_indices]\n",
    "\n",
    "\n",
    "title = 'Sholay'\n",
    "recommendations = get_recommendations(title)\n",
    "print(\"Recommended movies for '{}':\".format(title))\n",
    "print(recommendations)\n"
   ]
  },
  {
   "cell_type": "code",
   "execution_count": null,
   "id": "a146bc0a",
   "metadata": {},
   "outputs": [],
   "source": []
  }
 ],
 "metadata": {
  "kernelspec": {
   "display_name": "Python 3 (ipykernel)",
   "language": "python",
   "name": "python3"
  },
  "language_info": {
   "codemirror_mode": {
    "name": "ipython",
    "version": 3
   },
   "file_extension": ".py",
   "mimetype": "text/x-python",
   "name": "python",
   "nbconvert_exporter": "python",
   "pygments_lexer": "ipython3",
   "version": "3.11.5"
  }
 },
 "nbformat": 4,
 "nbformat_minor": 5
}
